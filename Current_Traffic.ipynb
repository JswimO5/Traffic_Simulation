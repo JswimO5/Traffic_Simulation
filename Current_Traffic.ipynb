{
 "cells": [
  {
   "cell_type": "markdown",
   "id": "3c351a05",
   "metadata": {},
   "source": [
    "## Model for Traffic in Davidson\n",
    "Made by James Durcan, Nolan Elder, and Jackson McDonald"
   ]
  },
  {
   "cell_type": "markdown",
   "id": "9610358d",
   "metadata": {},
   "source": [
    "The code below handles all of the imports needed to run the symulation"
   ]
  },
  {
   "cell_type": "code",
   "execution_count": 4,
   "id": "61e03cf6",
   "metadata": {},
   "outputs": [
    {
     "name": "stdout",
     "output_type": "stream",
     "text": [
      "Requirement already satisfied: numpy in c:\\users\\jmcdo\\onedrive\\documents\\github\\traffic_simulation\\.venv\\lib\\site-packages (2.2.5)\n"
     ]
    }
   ],
   "source": [
    "!pip install numpy\n",
    "from gameboard import GameBoard\n",
    "from gameboard_post_construction import GameBoard2"
   ]
  },
  {
   "cell_type": "markdown",
   "id": "431f0913",
   "metadata": {},
   "source": [
    "## Current Traffic Simulation\n",
    "The following code runs the simulation with Gameboard one which is desinged around current traffic"
   ]
  },
  {
   "cell_type": "code",
   "execution_count": null,
   "id": "acc68536",
   "metadata": {},
   "outputs": [],
   "source": [
    "time = 0\n",
    "hour = 7200\n",
    "board = GameBoard(5*hour)\n",
    "to = [0]*5\n",
    "num_to = [0]*5\n",
    "came_from = [0]*4\n",
    "num_from = [0]*4\n",
    "while time < 5*hour:\n",
    "    commutes = board.time_seg(time)\n",
    "    if(len(commutes)>0):\n",
    "        for i in range(len(commutes)):\n",
    "            commute_time = time - commutes[i].get_spawn_time()\n",
    "            direction_to = commutes[i].get_road_to()\n",
    "            \n"
   ]
  },
  {
   "cell_type": "markdown",
   "id": "eab53b53",
   "metadata": {},
   "source": [
    "## Post Project Simulation\n",
    "The following code runs the simulation with the Gameboard that includes the roundabouts at Griffith/Beaty/Sloan, Main/Potts, and the connection between Sloan and Potts"
   ]
  }
 ],
 "metadata": {
  "kernelspec": {
   "display_name": ".venv",
   "language": "python",
   "name": "python3"
  },
  "language_info": {
   "codemirror_mode": {
    "name": "ipython",
    "version": 3
   },
   "file_extension": ".py",
   "mimetype": "text/x-python",
   "name": "python",
   "nbconvert_exporter": "python",
   "pygments_lexer": "ipython3",
   "version": "3.12.6"
  }
 },
 "nbformat": 4,
 "nbformat_minor": 5
}
