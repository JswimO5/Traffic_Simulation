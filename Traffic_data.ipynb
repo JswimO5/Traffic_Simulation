{
 "cells": [
  {
   "cell_type": "markdown",
   "id": "3c351a05",
   "metadata": {},
   "source": [
    "## Model for Traffic in Davidson\n",
    "Made by James Durcan, Nolan Elder, and Jackson McDonald"
   ]
  },
  {
   "cell_type": "markdown",
   "id": "9610358d",
   "metadata": {},
   "source": [
    "The code below handles all of the imports needed to run the symulation"
   ]
  },
  {
   "cell_type": "code",
   "execution_count": 1,
   "id": "61e03cf6",
   "metadata": {},
   "outputs": [
    {
     "name": "stdout",
     "output_type": "stream",
     "text": [
      "Requirement already satisfied: numpy in c:\\users\\jmcdo\\onedrive\\documents\\github\\traffic_simulation\\.venv\\lib\\site-packages (2.2.5)\n",
      "Requirement already satisfied: matplotlib in c:\\users\\jmcdo\\onedrive\\documents\\github\\traffic_simulation\\.venv\\lib\\site-packages (3.10.1)\n",
      "Requirement already satisfied: contourpy>=1.0.1 in c:\\users\\jmcdo\\onedrive\\documents\\github\\traffic_simulation\\.venv\\lib\\site-packages (from matplotlib) (1.3.2)\n",
      "Requirement already satisfied: cycler>=0.10 in c:\\users\\jmcdo\\onedrive\\documents\\github\\traffic_simulation\\.venv\\lib\\site-packages (from matplotlib) (0.12.1)\n",
      "Requirement already satisfied: fonttools>=4.22.0 in c:\\users\\jmcdo\\onedrive\\documents\\github\\traffic_simulation\\.venv\\lib\\site-packages (from matplotlib) (4.57.0)\n",
      "Requirement already satisfied: kiwisolver>=1.3.1 in c:\\users\\jmcdo\\onedrive\\documents\\github\\traffic_simulation\\.venv\\lib\\site-packages (from matplotlib) (1.4.8)\n",
      "Requirement already satisfied: packaging>=20.0 in c:\\users\\jmcdo\\onedrive\\documents\\github\\traffic_simulation\\.venv\\lib\\site-packages (from matplotlib) (25.0)\n",
      "Requirement already satisfied: pillow>=8 in c:\\users\\jmcdo\\onedrive\\documents\\github\\traffic_simulation\\.venv\\lib\\site-packages (from matplotlib) (11.2.1)\n",
      "Requirement already satisfied: pyparsing>=2.3.1 in c:\\users\\jmcdo\\onedrive\\documents\\github\\traffic_simulation\\.venv\\lib\\site-packages (from matplotlib) (3.2.3)\n",
      "Requirement already satisfied: python-dateutil>=2.7 in c:\\users\\jmcdo\\onedrive\\documents\\github\\traffic_simulation\\.venv\\lib\\site-packages (from matplotlib) (2.9.0.post0)\n",
      "Requirement already satisfied: six>=1.5 in c:\\users\\jmcdo\\onedrive\\documents\\github\\traffic_simulation\\.venv\\lib\\site-packages (from python-dateutil>=2.7->matplotlib) (1.17.0)\n"
     ]
    }
   ],
   "source": [
    "!pip install numpy matplotlib\n",
    "from gameboard import GameBoard\n",
    "from gameboard_post_construction import GameBoard2\n",
    "import matplotlib.pyplot as plt\n",
    "import numpy as np"
   ]
  },
  {
   "cell_type": "markdown",
   "id": "431f0913",
   "metadata": {},
   "source": [
    "## Current Traffic Simulation\n",
    "The following code runs the simulation with Gameboard one which is desinged around current traffic"
   ]
  },
  {
   "cell_type": "code",
   "execution_count": 2,
   "id": "acc68536",
   "metadata": {},
   "outputs": [
    {
     "name": "stdout",
     "output_type": "stream",
     "text": [
      "All following times provided are in minutes.\n",
      "Griffith; average time to: 10.06, average time from: 7.53, total cars to: 1470, total cars from: 718.\n",
      "Main st north; average time to: 8.83, average time from: 6.83, total cars to: 521, total cars from: 365.\n",
      "Main st south; average time to: 10.09, average time from: 10.20, total cars to: 485, total cars from: 1112.\n",
      "Concord; average time to: 6.14, average time from: 9.21, total cars to: 798, total cars from: 1079.\n",
      "For all commuters; average time of commute: 8.91, total cars: 3274.\n"
     ]
    }
   ],
   "source": [
    "time = 0\n",
    "hour = 3600\n",
    "board = GameBoard(1.25 * hour)\n",
    "#indexs based on the enum in the cars class. To includes an index 0 for all directions\n",
    "to = [0]*5\n",
    "num_to = [0]*5\n",
    "came_from = [0]*4\n",
    "num_from = [0]*4\n",
    "while time < 1.5*hour:\n",
    "    commutes = board.time_seg(time)\n",
    "    if time >= 0.25 * hour:\n",
    "        if(len(commutes)>0):\n",
    "            for i in range(len(commutes)):\n",
    "                commute_time = time - commutes[i].get_spawn_time()\n",
    "                direction_to = commutes[i].get_road_to()\n",
    "                direction_from = commutes[i].get_road_from()\n",
    "                to[direction_to] += commute_time\n",
    "                num_to[direction_to] += 1\n",
    "                came_from[direction_from-1] += commute_time\n",
    "                num_from[direction_from-1] += 1\n",
    "                to[0] += commute_time\n",
    "                num_to[0] += 1\n",
    "    time += 1\n",
    "#find the avarages from the sum of commute times and cars\n",
    "for i in range(len(to)):\n",
    "    to[i] = to[i] / num_to[i]\n",
    "    to[i] = to[i] / 60\n",
    "for i in range(len(came_from)):\n",
    "    came_from[i] = came_from[i] / num_from[i]\n",
    "    came_from[i] = came_from[i] / 60\n",
    "print(\"All following times provided are in minutes.\")\n",
    "print(f\"Griffith; average time to: {to[1]:.2f}, average time from: {came_from[0]:.2f}, total cars to: {num_to[1]}, total cars from: {num_from[0]}.\")\n",
    "print(f\"Main st north; average time to: {to[2]:.2f}, average time from: {came_from[1]:.2f}, total cars to: {num_to[2]}, total cars from: {num_from[1]}.\")\n",
    "print(f\"Main st south; average time to: {to[3]:.2f}, average time from: {came_from[2]:.2f}, total cars to: {num_to[3]}, total cars from: {num_from[2]}.\")\n",
    "print(f\"Concord; average time to: {to[4]:.2f}, average time from: {came_from[3]:.2f}, total cars to: {num_to[4]}, total cars from: {num_from[3]}.\")\n",
    "print(f\"For all commuters; average time of commute: {to[0]:.2f}, total cars: {num_to[0]}.\")"
   ]
  },
  {
   "cell_type": "markdown",
   "id": "eab53b53",
   "metadata": {},
   "source": [
    "## Post Project Simulation\n",
    "The following code runs the simulation with the Gameboard that includes the roundabouts at Griffith/Beaty/Sloan, Main/Potts, and the connection between Sloan and Potts"
   ]
  },
  {
   "cell_type": "code",
   "execution_count": 3,
   "id": "9720fdca",
   "metadata": {},
   "outputs": [
    {
     "name": "stdout",
     "output_type": "stream",
     "text": [
      "All following times provided are in minutes.\n",
      "Griffith; average time to: 8.73, average time from: 6.68, total cars to: 1145, total cars from: 616.\n",
      "Main st north; average time to: 9.09, average time from: 7.26, total cars to: 468, total cars from: 451.\n",
      "Main st south; average time to: 9.71, average time from: 8.23, total cars to: 526, total cars from: 663.\n",
      "Concord; average time to: 5.91, average time from: 9.25, total cars to: 816, total cars from: 1225.\n",
      "For all commuters; average time of commute: 8.18, total cars: 2955.\n"
     ]
    }
   ],
   "source": [
    "time = 0\n",
    "hour = 3600\n",
    "board = GameBoard2(1.25 * hour)\n",
    "#indexs based on the enum in the cars class. To includes an index 0 for all directions\n",
    "to = [0]*5\n",
    "num_to = [0]*5\n",
    "came_from = [0]*4\n",
    "num_from = [0]*4\n",
    "while time < 1.5*hour:\n",
    "    commutes = board.time_seg(time)\n",
    "    if time >= 0.25 * hour:\n",
    "        if(len(commutes)>0):\n",
    "            for i in range(len(commutes)):\n",
    "                commute_time = time - commutes[i].get_spawn_time()\n",
    "                direction_to = commutes[i].get_road_to()\n",
    "                direction_from = commutes[i].get_road_from()\n",
    "                to[direction_to] += commute_time\n",
    "                num_to[direction_to] += 1\n",
    "                came_from[direction_from-1] += commute_time\n",
    "                num_from[direction_from-1] += 1\n",
    "                to[0] += commute_time\n",
    "                num_to[0] += 1\n",
    "    time += 1\n",
    "#find the avarages from the sum of commute times and cars\n",
    "for i in range(len(to)):\n",
    "    to[i] = to[i] / num_to[i]\n",
    "    to[i] = to[i] / 60\n",
    "for i in range(len(came_from)):\n",
    "    came_from[i] = came_from[i] / num_from[i]\n",
    "    came_from[i] = came_from[i] / 60\n",
    "print(\"All following times provided are in minutes.\")\n",
    "print(f\"Griffith; average time to: {to[1]:.2f}, average time from: {came_from[0]:.2f}, total cars to: {num_to[1]}, total cars from: {num_from[0]}.\")\n",
    "print(f\"Main st north; average time to: {to[2]:.2f}, average time from: {came_from[1]:.2f}, total cars to: {num_to[2]}, total cars from: {num_from[1]}.\")\n",
    "print(f\"Main st south; average time to: {to[3]:.2f}, average time from: {came_from[2]:.2f}, total cars to: {num_to[3]}, total cars from: {num_from[2]}.\")\n",
    "print(f\"Concord; average time to: {to[4]:.2f}, average time from: {came_from[3]:.2f}, total cars to: {num_to[4]}, total cars from: {num_from[3]}.\")\n",
    "print(f\"For all commuters; average time of commute: {to[0]:.2f}, total cars: {num_to[0]}.\")"
   ]
  },
  {
   "cell_type": "markdown",
   "id": "bccd1edc",
   "metadata": {},
   "source": [
    "## Results\n",
    "\n",
    "The code below runs multiple simulations and prints out a bar graph based on the findings"
   ]
  },
  {
   "cell_type": "code",
   "execution_count": null,
   "id": "856f2c34",
   "metadata": {},
   "outputs": [
    {
     "ename": "ZeroDivisionError",
     "evalue": "division by zero",
     "output_type": "error",
     "traceback": [
      "\u001b[31m---------------------------------------------------------------------------\u001b[39m",
      "\u001b[31mZeroDivisionError\u001b[39m                         Traceback (most recent call last)",
      "\u001b[36mCell\u001b[39m\u001b[36m \u001b[39m\u001b[32mIn[4]\u001b[39m\u001b[32m, line 48\u001b[39m\n\u001b[32m     46\u001b[39m \u001b[38;5;28;01mfor\u001b[39;00m i \u001b[38;5;129;01min\u001b[39;00m \u001b[38;5;28mrange\u001b[39m(\u001b[32m4\u001b[39m):\n\u001b[32m     47\u001b[39m     \u001b[38;5;28;01mfor\u001b[39;00m j \u001b[38;5;129;01min\u001b[39;00m \u001b[38;5;28mrange\u001b[39m(\u001b[32m3\u001b[39m):\n\u001b[32m---> \u001b[39m\u001b[32m48\u001b[39m         time_pre[i][j] = \u001b[43mtime_pre\u001b[49m\u001b[43m[\u001b[49m\u001b[43mi\u001b[49m\u001b[43m]\u001b[49m\u001b[43m[\u001b[49m\u001b[43mj\u001b[49m\u001b[43m]\u001b[49m\u001b[43m \u001b[49m\u001b[43m/\u001b[49m\u001b[43m \u001b[49m\u001b[43mnum_pre\u001b[49m\u001b[43m[\u001b[49m\u001b[43mi\u001b[49m\u001b[43m]\u001b[49m\u001b[43m[\u001b[49m\u001b[43mj\u001b[49m\u001b[43m]\u001b[49m\n\u001b[32m     49\u001b[39m         time_post[i][j] = time_post[i][j] / num_post[i][j]\n\u001b[32m     50\u001b[39m time_pre = time_pre[\u001b[32m0\u001b[39m] + time_pre[\u001b[32m1\u001b[39m] + time_pre[\u001b[32m2\u001b[39m] + time_pre[\u001b[32m3\u001b[39m]\n",
      "\u001b[31mZeroDivisionError\u001b[39m: division by zero"
     ]
    }
   ],
   "source": [
    "#initialize variable to store data\n",
    "hour = 3600\n",
    "pre = [0]*12\n",
    "post = [0]*12\n",
    "trials = 2\n",
    "#runs the simulation for trials number of times\n",
    "for attempt in range(trials):\n",
    "    #varables for simulation\n",
    "    time = 0\n",
    "    time_pre = [[0]*4,[0]*4,[0]*4,[0]*4]\n",
    "    num_pre = [[0]*4,[0]*4,[0]*4,[0]*4]\n",
    "    time_post = [[0]*4,[0]*4,[0]*4,[0]*4]\n",
    "    num_post = [[0]*4,[0]*4,[0]*4,[0]*4]\n",
    "    board1 = GameBoard(1.25 * hour)\n",
    "    board2 = GameBoard2(1.25 * hour)\n",
    "    #runs the simulation\n",
    "    while time < 1.5*hour:\n",
    "        commutes = board1.time_seg(time)\n",
    "        if time >= 0.25 * hour:\n",
    "            if(len(commutes)>0):\n",
    "                for i in range(len(commutes)):\n",
    "                    commute_time = time - commutes[i].get_spawn_time()\n",
    "                    time_pre[commutes[i].get_road_to()-1][commutes[i].get_road_from()-1] += commute_time\n",
    "                    num_pre[commutes[i].get_road_to()-1][commutes[i].get_road_from()-1] += 1\n",
    "        commutes = board2.time_seg(time)\n",
    "        if time >= 0.25 * hour:\n",
    "            if(len(commutes)>0):\n",
    "                for i in range(len(commutes)):\n",
    "                    commute_time = time - commutes[i].get_spawn_time()\n",
    "                    time_post[commutes[i].get_road_to()-1][commutes[i].get_road_from()-1] += commute_time\n",
    "                    num_post[commutes[i].get_road_to()-1][commutes[i].get_road_from()-1] += 1\n",
    "        time += 1\n",
    "    #reformats the array and calulates averages\n",
    "    for i in range(4):\n",
    "        for j in range(4):\n",
    "            if time_pre[i][j] == 0:\n",
    "                del time_pre[i][j]\n",
    "                del num_pre[i][j]\n",
    "                break\n",
    "    for i in range(4):\n",
    "        for j in range(4):\n",
    "            if time_post[i][j] == 0:\n",
    "                del time_post[i][j]\n",
    "                del num_post[i][j]\n",
    "                break\n",
    "    for i in range(4):\n",
    "        for j in range(3):\n",
    "            time_pre[i][j] = time_pre[i][j] / num_pre[i][j]\n",
    "            time_post[i][j] = time_post[i][j] / num_post[i][j]\n",
    "    time_pre = time_pre[0] + time_pre[1] + time_pre[2] + time_pre[3]\n",
    "    time_post = time_post[0] + time_post[1] + time_post[2] + time_post[3]\n",
    "    #stores results\n",
    "    for i in range(12):\n",
    "        pre[i] += time_pre[i]\n",
    "        post[i] += time_post[i]\n",
    "#averages across all trials\n",
    "for i in range(12):\n",
    "    pre[i] = pre[i] / (trials*60)\n",
    "    post[i] = post[i] / (trials*60)\n",
    "#setting up the graph\n",
    "to_G_routes = ['To Griffith from Main north', 'To Griffith from Main south', 'To Griffith from Concord']\n",
    "to_N_routes = ['To Main north from Griffith', 'To Main north from Main south', 'To Main north from Concord']\n",
    "to_S_routes = ['To Main south from Griffith', 'To Main south from Main north', 'To Main south from Concord']\n",
    "to_C_routes = ['To Concord from Griffith', 'To Concord from Main north', 'To Concord from Main south']\n",
    "routes = to_G_routes + to_N_routes + to_S_routes + to_C_routes\n",
    "x = np.arange(len(routes))\n",
    "width = 0.35\n",
    "fig, ax = plt.subplots()\n",
    "bars1 = ax.bar(x - width/2, pre, width, label='Before')\n",
    "bars2 = ax.bar(x + width/2, post, width, label='After')\n",
    "ax.set_xlabel('Routes')\n",
    "ax.set_ylabel('Average Time')\n",
    "ax.set_title('Traffic Before and After')\n",
    "ax.set_xticks(x)\n",
    "ax.set_xticklabels(routes)\n",
    "ax.legend()\n",
    "\n",
    "plt.show()"
   ]
  }
 ],
 "metadata": {
  "kernelspec": {
   "display_name": ".venv",
   "language": "python",
   "name": "python3"
  },
  "language_info": {
   "codemirror_mode": {
    "name": "ipython",
    "version": 3
   },
   "file_extension": ".py",
   "mimetype": "text/x-python",
   "name": "python",
   "nbconvert_exporter": "python",
   "pygments_lexer": "ipython3",
   "version": "3.12.6"
  }
 },
 "nbformat": 4,
 "nbformat_minor": 5
}
