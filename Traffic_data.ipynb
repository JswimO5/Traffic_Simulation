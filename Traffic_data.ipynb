{
 "cells": [
  {
   "cell_type": "markdown",
   "id": "3c351a05",
   "metadata": {},
   "source": [
    "## Model for Traffic in Davidson\n",
    "Made by James Durcan, Nolan Elder, and Jackson McDonald"
   ]
  },
  {
   "cell_type": "markdown",
   "id": "9610358d",
   "metadata": {},
   "source": [
    "The code below handles all of the imports needed to run the symulation"
   ]
  },
  {
   "cell_type": "code",
   "execution_count": 1,
   "id": "61e03cf6",
   "metadata": {},
   "outputs": [
    {
     "name": "stdout",
     "output_type": "stream",
     "text": [
      "Requirement already satisfied: numpy in c:\\users\\jmcdo\\onedrive\\documents\\github\\traffic_simulation\\.venv\\lib\\site-packages (2.2.5)\n"
     ]
    }
   ],
   "source": [
    "!pip install numpy\n",
    "from gameboard import GameBoard\n",
    "from gameboard_post_construction import GameBoard2"
   ]
  },
  {
   "cell_type": "markdown",
   "id": "431f0913",
   "metadata": {},
   "source": [
    "## Current Traffic Simulation\n",
    "The following code runs the simulation with Gameboard one which is desinged around current traffic"
   ]
  },
  {
   "cell_type": "code",
   "execution_count": 2,
   "id": "acc68536",
   "metadata": {},
   "outputs": [
    {
     "name": "stdout",
     "output_type": "stream",
     "text": [
      "All following times provided are in minutes.\n",
      "Griffith; average time to: 7.80, average time from: 7.35, total cars to: 567, total cars from: 293.\n",
      "Main st north; average time to: 7.33, average time from: 6.58, total cars to: 306, total cars from: 190.\n",
      "Main st south; average time to: 8.21, average time from: 9.24, total cars to: 217, total cars from: 424.\n",
      "Concord; average time to: 5.70, average time from: 5.87, total cars to: 321, total cars from: 504.\n",
      "For all commuters; average time of commute: 7.29, total cars: 1411.\n"
     ]
    }
   ],
   "source": [
    "time = 0\n",
    "hour = 3600\n",
    "board = GameBoard(1.25 * hour)\n",
    "#indexs based on the enum in the cars class. To includes an index 0 for all directions\n",
    "to = [0]*5\n",
    "num_to = [0]*5\n",
    "came_from = [0]*4\n",
    "num_from = [0]*4\n",
    "while time < 1.5*hour:\n",
    "    commutes = board.time_seg(time)\n",
    "    if time >= 0.25 * hour:\n",
    "        if(len(commutes)>0):\n",
    "            for i in range(len(commutes)):\n",
    "                commute_time = time - commutes[i].get_spawn_time()\n",
    "                direction_to = commutes[i].get_road_to()\n",
    "                direction_from = commutes[i].get_road_from()\n",
    "                to[direction_to] += commute_time\n",
    "                num_to[direction_to] += 1\n",
    "                came_from[direction_from-1] += commute_time\n",
    "                num_from[direction_from-1] += 1\n",
    "                to[0] += commute_time\n",
    "                num_to[0] += 1\n",
    "    time += 1\n",
    "#find the avarages from the sum of commute times and cars\n",
    "for i in range(len(to)):\n",
    "    to[i] = to[i] / num_to[i]\n",
    "    to[i] = to[i] / 60\n",
    "for i in range(len(came_from)):\n",
    "    came_from[i] = came_from[i] / num_from[i]\n",
    "    came_from[i] = came_from[i] / 60\n",
    "print(\"All following times provided are in minutes.\")\n",
    "print(f\"Griffith; average time to: {to[1]:.2f}, average time from: {came_from[0]:.2f}, total cars to: {num_to[1]}, total cars from: {num_from[0]}.\")\n",
    "print(f\"Main st north; average time to: {to[2]:.2f}, average time from: {came_from[1]:.2f}, total cars to: {num_to[2]}, total cars from: {num_from[1]}.\")\n",
    "print(f\"Main st south; average time to: {to[3]:.2f}, average time from: {came_from[2]:.2f}, total cars to: {num_to[3]}, total cars from: {num_from[2]}.\")\n",
    "print(f\"Concord; average time to: {to[4]:.2f}, average time from: {came_from[3]:.2f}, total cars to: {num_to[4]}, total cars from: {num_from[3]}.\")\n",
    "print(f\"For all commuters; average time of commute: {to[0]:.2f}, total cars: {num_to[0]}.\")"
   ]
  },
  {
   "cell_type": "markdown",
   "id": "eab53b53",
   "metadata": {},
   "source": [
    "## Post Project Simulation\n",
    "The following code runs the simulation with the Gameboard that includes the roundabouts at Griffith/Beaty/Sloan, Main/Potts, and the connection between Sloan and Potts"
   ]
  },
  {
   "cell_type": "code",
   "execution_count": 3,
   "id": "9720fdca",
   "metadata": {},
   "outputs": [
    {
     "name": "stdout",
     "output_type": "stream",
     "text": [
      "All following times provided are in minutes.\n",
      "Griffith; average time to: 6.66, average time from: 6.62, total cars to: 425, total cars from: 226.\n",
      "Main st north; average time to: 7.90, average time from: 7.19, total cars to: 214, total cars from: 178.\n",
      "Main st south; average time to: 7.91, average time from: 8.11, total cars to: 229, total cars from: 334.\n",
      "Concord; average time to: 5.73, average time from: 5.95, total cars to: 330, total cars from: 460.\n",
      "For all commuters; average time of commute: 6.86, total cars: 1198.\n"
     ]
    }
   ],
   "source": [
    "time = 0\n",
    "hour = 3600\n",
    "board = GameBoard2(1.25 * hour)\n",
    "#indexs based on the enum in the cars class. To includes an index 0 for all directions\n",
    "to = [0]*5\n",
    "num_to = [0]*5\n",
    "came_from = [0]*4\n",
    "num_from = [0]*4\n",
    "while time < 1.5*hour:\n",
    "    commutes = board.time_seg(time)\n",
    "    if time >= 0.25 * hour:\n",
    "        if(len(commutes)>0):\n",
    "            for i in range(len(commutes)):\n",
    "                commute_time = time - commutes[i].get_spawn_time()\n",
    "                direction_to = commutes[i].get_road_to()\n",
    "                direction_from = commutes[i].get_road_from()\n",
    "                to[direction_to] += commute_time\n",
    "                num_to[direction_to] += 1\n",
    "                came_from[direction_from-1] += commute_time\n",
    "                num_from[direction_from-1] += 1\n",
    "                to[0] += commute_time\n",
    "                num_to[0] += 1\n",
    "    time += 1\n",
    "#find the avarages from the sum of commute times and cars\n",
    "for i in range(len(to)):\n",
    "    to[i] = to[i] / num_to[i]\n",
    "    to[i] = to[i] / 60\n",
    "for i in range(len(came_from)):\n",
    "    came_from[i] = came_from[i] / num_from[i]\n",
    "    came_from[i] = came_from[i] / 60\n",
    "print(\"All following times provided are in minutes.\")\n",
    "print(f\"Griffith; average time to: {to[1]:.2f}, average time from: {came_from[0]:.2f}, total cars to: {num_to[1]}, total cars from: {num_from[0]}.\")\n",
    "print(f\"Main st north; average time to: {to[2]:.2f}, average time from: {came_from[1]:.2f}, total cars to: {num_to[2]}, total cars from: {num_from[1]}.\")\n",
    "print(f\"Main st south; average time to: {to[3]:.2f}, average time from: {came_from[2]:.2f}, total cars to: {num_to[3]}, total cars from: {num_from[2]}.\")\n",
    "print(f\"Concord; average time to: {to[4]:.2f}, average time from: {came_from[3]:.2f}, total cars to: {num_to[4]}, total cars from: {num_from[3]}.\")\n",
    "print(f\"For all commuters; average time of commute: {to[0]:.2f}, total cars: {num_to[0]}.\")"
   ]
  }
 ],
 "metadata": {
  "kernelspec": {
   "display_name": ".venv",
   "language": "python",
   "name": "python3"
  },
  "language_info": {
   "codemirror_mode": {
    "name": "ipython",
    "version": 3
   },
   "file_extension": ".py",
   "mimetype": "text/x-python",
   "name": "python",
   "nbconvert_exporter": "python",
   "pygments_lexer": "ipython3",
   "version": "3.12.6"
  }
 },
 "nbformat": 4,
 "nbformat_minor": 5
}
